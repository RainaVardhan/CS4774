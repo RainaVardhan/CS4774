{
  "cells": [
    {
      "cell_type": "markdown",
      "metadata": {
        "id": "view-in-github",
        "colab_type": "text"
      },
      "source": [
        "<a href=\"https://colab.research.google.com/github/RainaVardhan/CS4774/blob/main/Copy_of_ailaw_project1.ipynb\" target=\"_parent\"><img src=\"https://colab.research.google.com/assets/colab-badge.svg\" alt=\"Open In Colab\"/></a>"
      ]
    },
    {
      "cell_type": "markdown",
      "metadata": {
        "id": "uDyTb9NTqdbx"
      },
      "source": [
        "# **CS4501/LAW7127 Fall 2025: Project 1**\n",
        "\n",
        "# Project 1: Fairness in Student Loans\n",
        "\n",
        "The goal of this assignment is to explore ways to audit a model for fairness, to get some experience and understanding of how models are trained, and to explore techniques for training a model that makes predictions that align with a fairness goal."
      ]
    },
    {
      "cell_type": "markdown",
      "metadata": {
        "id": "-wlwkPIGsBTj"
      },
      "source": [
        "**Copying this notebook:** To get starting, you'll need to make your own copy of this notebook so you can make edits in it. One team member should make a copy (select \"File | Save a Copy in Drive\" from the menu at the top left). Then, share that copy with all of your teammates (as Editor for the copy). After this, everyone on the team should be able to open the shared notebook and edit it collaboratively."
      ]
    },
    {
      "cell_type": "markdown",
      "metadata": {
        "id": "KYmiBsGOo7Te"
      },
      "source": [
        "# Motivating Scenario: Earnest LLC Settlement\n",
        "\n"
      ]
    },
    {
      "cell_type": "markdown",
      "metadata": {
        "id": "fIX6pSepvbCZ"
      },
      "source": [
        "On 10 July 2025, the Massachusetts Attorney General announced a settlement with a company, [Earnest Operations LLC](https://www.earnest.com/), that makes student loans for its use of AI models in ways that were considered to violate fair lending laws:\n",
        "\n",
        "- Massachusetts' Attorney General Press Release: [_AG Campbell Announces $2.5 Million Settlement With Student Loan Lender For Unlawful Practices Through AI Use, Other Consumer Protection Violations_](https://uvalawai.github.io/readings/ag-announcement.pdf), 10 July 2025. (Original link: https://www.mass.gov/news/ag-campbell-announces-25-million-settlement-with-student-loan-lender-for-unlawful-practices-through-ai-use-other-consumer-protection-violations)\n",
        "- [Settlement (PDF)](https://uvalawai.github.io/readings/earnest-ago-settlement.pdf) (Original link: [https://www.mass.gov/doc/earnest-aod/download](https://www.mass.gov/doc/earnest-aod/download))\n",
        "- [AG's Advisory (PDF)](https://uvalawai.github.io/readings/ag-advisory.pdf) (Original link: https://www.mass.gov/news/ag-campbell-issues-advisory-providing-guidance-on-how-state-consumer-protection-and-other-laws-apply-to-artificial-intelligence)"
      ]
    },
    {
      "cell_type": "code",
      "execution_count": 29,
      "metadata": {
        "colab": {
          "base_uri": "https://localhost:8080/",
          "height": 34
        },
        "id": "DutwiZbfKsst",
        "outputId": "17555530-219e-40b9-c0ab-f9c00383457a"
      },
      "outputs": [
        {
          "output_type": "display_data",
          "data": {
            "application/javascript": [
              "IPython.notebook.set_autosave_interval(60000)"
            ]
          },
          "metadata": {}
        },
        {
          "output_type": "stream",
          "name": "stdout",
          "text": [
            "Autosaving every 60 seconds\n"
          ]
        }
      ],
      "source": [
        "# Execute this cell if you want colab to autosave your work (normally only saves when you select File | Save)\n",
        "%autosave 60"
      ]
    },
    {
      "cell_type": "markdown",
      "metadata": {
        "id": "_D9wxMdSo7Tf"
      },
      "source": [
        "## Overview and Objectives\n",
        "\n",
        "For the first part of this assignment, you will get familiar with running and writing Python code in a Colab notebook and performing some statistical tests on loan underwriting decisions in provided data and consider the fairness and legal implications of your analyses.\n",
        "\n",
        "In the second part, you will get some experience training models on data, assess properties of trained modesl, and aim to develop a training process and resulting model that satisfies fairness and legal requirements.\n",
        "\n",
        "In Project 2 (assigned after next week), we will explore explainability and interpretability of these models."
      ]
    },
    {
      "cell_type": "markdown",
      "metadata": {
        "id": "-gAdy1MWo7Tf"
      },
      "source": [
        "## Getting Started\n",
        "\n",
        "First, we need to import some libraries into our environment. These should already be setup if you are using Google Colab. (If you are running this notebook locally, you may need to install them.)\n",
        "\n",
        "The two libraries we load below are [NumPy](https://numpy.org/), a library that makes it easy to manipulate large multi-dimensional arrays of numbers, and [Pandas](https://pandas.pydata.org/), a library for data analysis. By using these libraries, we can get a lot done with just a few lines of code.\n",
        "\n",
        "The next cell in the notebook is code that imports the two libraries. You can run this by pressing the play (triangle pointing to the right) button or typing \"shift-enter\". When you run a code cell in the notebook, if it executes without error you should see a green check and the time it took to execute, followed by the output it produced in the next cell."
      ]
    },
    {
      "cell_type": "code",
      "execution_count": 30,
      "metadata": {
        "colab": {
          "base_uri": "https://localhost:8080/"
        },
        "id": "KcNxJg5No7Tf",
        "outputId": "610c30cd-7477-4dca-dece-75fe742faf50"
      },
      "outputs": [
        {
          "output_type": "stream",
          "name": "stdout",
          "text": [
            "Imports successful!\n"
          ]
        }
      ],
      "source": [
        "import numpy as np\n",
        "import pandas as pd\n",
        "\n",
        "# Type \"shift-enter\" to run this cell and check that the libraries import without any errors.\n",
        "\n",
        "print(\"Imports successful!\")"
      ]
    },
    {
      "cell_type": "markdown",
      "metadata": {
        "id": "utcOKMRowqFv"
      },
      "source": [
        "## Data\n",
        "\n"
      ]
    },
    {
      "cell_type": "markdown",
      "metadata": {
        "id": "1XTn17agvNz3"
      },
      "source": [
        "Unfortunately, we do not have any suitable real data available from the Earnest Loan case, or any source for data on real student loans with enough information to be useful for this assignment. Instead, we'll need to use synthetic data that we have generated for this purpose.\n",
        "\n",
        "Using synthetic data raises many issues and we will let you know more about how the synthetic data was generated later, but for now you should imagine that this is real data recording underwriting decisions."
      ]
    },
    {
      "cell_type": "markdown",
      "metadata": {
        "id": "d7LMJ28AQij9"
      },
      "source": [
        "Execute the cell below (by clicking the triangle or Shift-Enter) to get the data into this notebook:"
      ]
    },
    {
      "cell_type": "code",
      "execution_count": 31,
      "metadata": {
        "colab": {
          "base_uri": "https://localhost:8080/"
        },
        "id": "eoprG88MtGY6",
        "outputId": "3ef3a619-d070-4658-e7da-b91c4420fb91"
      },
      "outputs": [
        {
          "output_type": "stream",
          "name": "stdout",
          "text": [
            "Cloning into 'Project1Public'...\n",
            "remote: Enumerating objects: 150, done.\u001b[K\n",
            "remote: Counting objects: 100% (150/150), done.\u001b[K\n",
            "remote: Compressing objects: 100% (92/92), done.\u001b[K\n",
            "remote: Total 150 (delta 71), reused 133 (delta 54), pack-reused 0 (from 0)\u001b[K\n",
            "Receiving objects: 100% (150/150), 21.32 MiB | 17.37 MiB/s, done.\n",
            "Resolving deltas: 100% (71/71), done.\n",
            "total 11M\n",
            " 28K institutions.csv  1.5M loan-testing.csv\n",
            "3.6M loan-data.csv     5.5M loan-training.csv\n"
          ]
        }
      ],
      "source": [
        "!rm -rf Project1Public\n",
        "!git clone https://github.com/uvalawai/Project1Public.git\n",
        "!ls -sh Project1Public # this will show you the files in the directory"
      ]
    },
    {
      "cell_type": "markdown",
      "metadata": {
        "id": "42Sk3yR0wwMS"
      },
      "source": [
        "If everything worked successfully, you should see a list of several `.csv` files that we will use as data sources."
      ]
    },
    {
      "cell_type": "markdown",
      "metadata": {
        "id": "9VcJZ0gnvC5j"
      },
      "source": [
        "# Analyzing Fairness"
      ]
    },
    {
      "cell_type": "markdown",
      "metadata": {
        "id": "3J9tsfcwo30h"
      },
      "source": [
        "In the first part of this project, you will get familiar with working with data and analyze quantitative fairness metrics for the loan decisions data."
      ]
    },
    {
      "cell_type": "markdown",
      "metadata": {
        "id": "ziMrMumAw8IA"
      },
      "source": [
        "## Understanding the Data"
      ]
    },
    {
      "cell_type": "markdown",
      "metadata": {
        "id": "OROApkjZo7Tg"
      },
      "source": [
        "The code below loads one of the data files into a Pandas dataframe what will allow us to explore and analyze the data:"
      ]
    },
    {
      "cell_type": "code",
      "execution_count": 32,
      "metadata": {
        "colab": {
          "base_uri": "https://localhost:8080/"
        },
        "id": "mRP1rn5ro7Th",
        "outputId": "98d121c8-de91-43e2-d0e1-20776ef92e0b"
      },
      "outputs": [
        {
          "output_type": "stream",
          "name": "stdout",
          "text": [
            "Loaded loan-data.csv: 50000 rows, 16 columns\n"
          ]
        }
      ],
      "source": [
        "def load_data(fname, data_dir = '/content/Project1Public/', verbose=True):\n",
        "  # The dtype is used to avoid conversion to float for missing values\n",
        "  df = pd.read_csv(data_dir + fname, dtype={\"good_loan\": \"Int8\"})\n",
        "  if verbose: print(f\"Loaded {fname}: {len(df)} rows, {len(df.columns)} columns\")\n",
        "  return df\n",
        "\n",
        "loandata = load_data('loan-data.csv')"
      ]
    },
    {
      "cell_type": "markdown",
      "metadata": {
        "id": "sl_2iYR2KiVq"
      },
      "source": [
        "Let's look at the loaded data:"
      ]
    },
    {
      "cell_type": "code",
      "execution_count": 33,
      "metadata": {
        "colab": {
          "base_uri": "https://localhost:8080/",
          "height": 443
        },
        "id": "zvYEGmStJAMY",
        "outputId": "d39705a9-82e8-4ea1-cc15-414752d5fc26"
      },
      "outputs": [
        {
          "output_type": "execute_result",
          "data": {
            "text/plain": [
              "       applicant_id  age sex   race  income  credit_score    dti  \\\n",
              "0                 0   19   F  Other    5000           597  0.104   \n",
              "1                 1   27   F  Asian   22000           739  0.139   \n",
              "2                 2   27   F  White   44000           850  0.104   \n",
              "3                 3   20   F  White    4500           850  0.097   \n",
              "4                 4   31   M  White   14000           849  0.224   \n",
              "...             ...  ...  ..    ...     ...           ...    ...   \n",
              "49995         49995   20   F  Black    2000           459  0.102   \n",
              "49996         49996   21   F  White    6000           780  0.179   \n",
              "49997         49997   21   F  White   46000           420  0.215   \n",
              "49998         49998   30   F  Black   23000           574  0.132   \n",
              "49999         49999   20   F  White   34000           759  0.294   \n",
              "\n",
              "       institution_id  cohort_default_rate program_level     major  \\\n",
              "0                 135               0.0452     undergrad      STEM   \n",
              "1                 135               0.0452      graduate      STEM   \n",
              "2                  25               0.0455     undergrad      Arts   \n",
              "3                  23               0.3749     undergrad      STEM   \n",
              "4                  98               0.1411     undergrad      Arts   \n",
              "...               ...                  ...           ...       ...   \n",
              "49995              96               0.0599     undergrad  Business   \n",
              "49996             135               0.0452     undergrad  Business   \n",
              "49997             113               0.0526      graduate      STEM   \n",
              "49998              59               0.3318     undergrad  Business   \n",
              "49999              25               0.0455      graduate      STEM   \n",
              "\n",
              "       loan_amount  model1_recommendation  model2_recommendation  \\\n",
              "0          30000.0                      1                      1   \n",
              "1          29000.0                      1                      1   \n",
              "2          20000.0                      1                      1   \n",
              "3          88000.0                      0                      1   \n",
              "4           9000.0                      0                      1   \n",
              "...            ...                    ...                    ...   \n",
              "49995     115000.0                      0                      0   \n",
              "49996      42000.0                      1                      1   \n",
              "49997      65000.0                      1                      0   \n",
              "49998      30000.0                      0                      1   \n",
              "49999      26000.0                      1                      1   \n",
              "\n",
              "       loan_granted  good_loan  \n",
              "0                 1          1  \n",
              "1                 1          1  \n",
              "2                 1          1  \n",
              "3                 1          1  \n",
              "4                 1          1  \n",
              "...             ...        ...  \n",
              "49995             0       <NA>  \n",
              "49996             1          1  \n",
              "49997             0       <NA>  \n",
              "49998             0       <NA>  \n",
              "49999             1          1  \n",
              "\n",
              "[50000 rows x 16 columns]"
            ],
            "text/html": [
              "\n",
              "  <div id=\"df-e52d4b6a-3970-40f1-a97d-f180a6734370\" class=\"colab-df-container\">\n",
              "    <div>\n",
              "<style scoped>\n",
              "    .dataframe tbody tr th:only-of-type {\n",
              "        vertical-align: middle;\n",
              "    }\n",
              "\n",
              "    .dataframe tbody tr th {\n",
              "        vertical-align: top;\n",
              "    }\n",
              "\n",
              "    .dataframe thead th {\n",
              "        text-align: right;\n",
              "    }\n",
              "</style>\n",
              "<table border=\"1\" class=\"dataframe\">\n",
              "  <thead>\n",
              "    <tr style=\"text-align: right;\">\n",
              "      <th></th>\n",
              "      <th>applicant_id</th>\n",
              "      <th>age</th>\n",
              "      <th>sex</th>\n",
              "      <th>race</th>\n",
              "      <th>income</th>\n",
              "      <th>credit_score</th>\n",
              "      <th>dti</th>\n",
              "      <th>institution_id</th>\n",
              "      <th>cohort_default_rate</th>\n",
              "      <th>program_level</th>\n",
              "      <th>major</th>\n",
              "      <th>loan_amount</th>\n",
              "      <th>model1_recommendation</th>\n",
              "      <th>model2_recommendation</th>\n",
              "      <th>loan_granted</th>\n",
              "      <th>good_loan</th>\n",
              "    </tr>\n",
              "  </thead>\n",
              "  <tbody>\n",
              "    <tr>\n",
              "      <th>0</th>\n",
              "      <td>0</td>\n",
              "      <td>19</td>\n",
              "      <td>F</td>\n",
              "      <td>Other</td>\n",
              "      <td>5000</td>\n",
              "      <td>597</td>\n",
              "      <td>0.104</td>\n",
              "      <td>135</td>\n",
              "      <td>0.0452</td>\n",
              "      <td>undergrad</td>\n",
              "      <td>STEM</td>\n",
              "      <td>30000.0</td>\n",
              "      <td>1</td>\n",
              "      <td>1</td>\n",
              "      <td>1</td>\n",
              "      <td>1</td>\n",
              "    </tr>\n",
              "    <tr>\n",
              "      <th>1</th>\n",
              "      <td>1</td>\n",
              "      <td>27</td>\n",
              "      <td>F</td>\n",
              "      <td>Asian</td>\n",
              "      <td>22000</td>\n",
              "      <td>739</td>\n",
              "      <td>0.139</td>\n",
              "      <td>135</td>\n",
              "      <td>0.0452</td>\n",
              "      <td>graduate</td>\n",
              "      <td>STEM</td>\n",
              "      <td>29000.0</td>\n",
              "      <td>1</td>\n",
              "      <td>1</td>\n",
              "      <td>1</td>\n",
              "      <td>1</td>\n",
              "    </tr>\n",
              "    <tr>\n",
              "      <th>2</th>\n",
              "      <td>2</td>\n",
              "      <td>27</td>\n",
              "      <td>F</td>\n",
              "      <td>White</td>\n",
              "      <td>44000</td>\n",
              "      <td>850</td>\n",
              "      <td>0.104</td>\n",
              "      <td>25</td>\n",
              "      <td>0.0455</td>\n",
              "      <td>undergrad</td>\n",
              "      <td>Arts</td>\n",
              "      <td>20000.0</td>\n",
              "      <td>1</td>\n",
              "      <td>1</td>\n",
              "      <td>1</td>\n",
              "      <td>1</td>\n",
              "    </tr>\n",
              "    <tr>\n",
              "      <th>3</th>\n",
              "      <td>3</td>\n",
              "      <td>20</td>\n",
              "      <td>F</td>\n",
              "      <td>White</td>\n",
              "      <td>4500</td>\n",
              "      <td>850</td>\n",
              "      <td>0.097</td>\n",
              "      <td>23</td>\n",
              "      <td>0.3749</td>\n",
              "      <td>undergrad</td>\n",
              "      <td>STEM</td>\n",
              "      <td>88000.0</td>\n",
              "      <td>0</td>\n",
              "      <td>1</td>\n",
              "      <td>1</td>\n",
              "      <td>1</td>\n",
              "    </tr>\n",
              "    <tr>\n",
              "      <th>4</th>\n",
              "      <td>4</td>\n",
              "      <td>31</td>\n",
              "      <td>M</td>\n",
              "      <td>White</td>\n",
              "      <td>14000</td>\n",
              "      <td>849</td>\n",
              "      <td>0.224</td>\n",
              "      <td>98</td>\n",
              "      <td>0.1411</td>\n",
              "      <td>undergrad</td>\n",
              "      <td>Arts</td>\n",
              "      <td>9000.0</td>\n",
              "      <td>0</td>\n",
              "      <td>1</td>\n",
              "      <td>1</td>\n",
              "      <td>1</td>\n",
              "    </tr>\n",
              "    <tr>\n",
              "      <th>...</th>\n",
              "      <td>...</td>\n",
              "      <td>...</td>\n",
              "      <td>...</td>\n",
              "      <td>...</td>\n",
              "      <td>...</td>\n",
              "      <td>...</td>\n",
              "      <td>...</td>\n",
              "      <td>...</td>\n",
              "      <td>...</td>\n",
              "      <td>...</td>\n",
              "      <td>...</td>\n",
              "      <td>...</td>\n",
              "      <td>...</td>\n",
              "      <td>...</td>\n",
              "      <td>...</td>\n",
              "      <td>...</td>\n",
              "    </tr>\n",
              "    <tr>\n",
              "      <th>49995</th>\n",
              "      <td>49995</td>\n",
              "      <td>20</td>\n",
              "      <td>F</td>\n",
              "      <td>Black</td>\n",
              "      <td>2000</td>\n",
              "      <td>459</td>\n",
              "      <td>0.102</td>\n",
              "      <td>96</td>\n",
              "      <td>0.0599</td>\n",
              "      <td>undergrad</td>\n",
              "      <td>Business</td>\n",
              "      <td>115000.0</td>\n",
              "      <td>0</td>\n",
              "      <td>0</td>\n",
              "      <td>0</td>\n",
              "      <td>&lt;NA&gt;</td>\n",
              "    </tr>\n",
              "    <tr>\n",
              "      <th>49996</th>\n",
              "      <td>49996</td>\n",
              "      <td>21</td>\n",
              "      <td>F</td>\n",
              "      <td>White</td>\n",
              "      <td>6000</td>\n",
              "      <td>780</td>\n",
              "      <td>0.179</td>\n",
              "      <td>135</td>\n",
              "      <td>0.0452</td>\n",
              "      <td>undergrad</td>\n",
              "      <td>Business</td>\n",
              "      <td>42000.0</td>\n",
              "      <td>1</td>\n",
              "      <td>1</td>\n",
              "      <td>1</td>\n",
              "      <td>1</td>\n",
              "    </tr>\n",
              "    <tr>\n",
              "      <th>49997</th>\n",
              "      <td>49997</td>\n",
              "      <td>21</td>\n",
              "      <td>F</td>\n",
              "      <td>White</td>\n",
              "      <td>46000</td>\n",
              "      <td>420</td>\n",
              "      <td>0.215</td>\n",
              "      <td>113</td>\n",
              "      <td>0.0526</td>\n",
              "      <td>graduate</td>\n",
              "      <td>STEM</td>\n",
              "      <td>65000.0</td>\n",
              "      <td>1</td>\n",
              "      <td>0</td>\n",
              "      <td>0</td>\n",
              "      <td>&lt;NA&gt;</td>\n",
              "    </tr>\n",
              "    <tr>\n",
              "      <th>49998</th>\n",
              "      <td>49998</td>\n",
              "      <td>30</td>\n",
              "      <td>F</td>\n",
              "      <td>Black</td>\n",
              "      <td>23000</td>\n",
              "      <td>574</td>\n",
              "      <td>0.132</td>\n",
              "      <td>59</td>\n",
              "      <td>0.3318</td>\n",
              "      <td>undergrad</td>\n",
              "      <td>Business</td>\n",
              "      <td>30000.0</td>\n",
              "      <td>0</td>\n",
              "      <td>1</td>\n",
              "      <td>0</td>\n",
              "      <td>&lt;NA&gt;</td>\n",
              "    </tr>\n",
              "    <tr>\n",
              "      <th>49999</th>\n",
              "      <td>49999</td>\n",
              "      <td>20</td>\n",
              "      <td>F</td>\n",
              "      <td>White</td>\n",
              "      <td>34000</td>\n",
              "      <td>759</td>\n",
              "      <td>0.294</td>\n",
              "      <td>25</td>\n",
              "      <td>0.0455</td>\n",
              "      <td>graduate</td>\n",
              "      <td>STEM</td>\n",
              "      <td>26000.0</td>\n",
              "      <td>1</td>\n",
              "      <td>1</td>\n",
              "      <td>1</td>\n",
              "      <td>1</td>\n",
              "    </tr>\n",
              "  </tbody>\n",
              "</table>\n",
              "<p>50000 rows × 16 columns</p>\n",
              "</div>\n",
              "    <div class=\"colab-df-buttons\">\n",
              "\n",
              "  <div class=\"colab-df-container\">\n",
              "    <button class=\"colab-df-convert\" onclick=\"convertToInteractive('df-e52d4b6a-3970-40f1-a97d-f180a6734370')\"\n",
              "            title=\"Convert this dataframe to an interactive table.\"\n",
              "            style=\"display:none;\">\n",
              "\n",
              "  <svg xmlns=\"http://www.w3.org/2000/svg\" height=\"24px\" viewBox=\"0 -960 960 960\">\n",
              "    <path d=\"M120-120v-720h720v720H120Zm60-500h600v-160H180v160Zm220 220h160v-160H400v160Zm0 220h160v-160H400v160ZM180-400h160v-160H180v160Zm440 0h160v-160H620v160ZM180-180h160v-160H180v160Zm440 0h160v-160H620v160Z\"/>\n",
              "  </svg>\n",
              "    </button>\n",
              "\n",
              "  <style>\n",
              "    .colab-df-container {\n",
              "      display:flex;\n",
              "      gap: 12px;\n",
              "    }\n",
              "\n",
              "    .colab-df-convert {\n",
              "      background-color: #E8F0FE;\n",
              "      border: none;\n",
              "      border-radius: 50%;\n",
              "      cursor: pointer;\n",
              "      display: none;\n",
              "      fill: #1967D2;\n",
              "      height: 32px;\n",
              "      padding: 0 0 0 0;\n",
              "      width: 32px;\n",
              "    }\n",
              "\n",
              "    .colab-df-convert:hover {\n",
              "      background-color: #E2EBFA;\n",
              "      box-shadow: 0px 1px 2px rgba(60, 64, 67, 0.3), 0px 1px 3px 1px rgba(60, 64, 67, 0.15);\n",
              "      fill: #174EA6;\n",
              "    }\n",
              "\n",
              "    .colab-df-buttons div {\n",
              "      margin-bottom: 4px;\n",
              "    }\n",
              "\n",
              "    [theme=dark] .colab-df-convert {\n",
              "      background-color: #3B4455;\n",
              "      fill: #D2E3FC;\n",
              "    }\n",
              "\n",
              "    [theme=dark] .colab-df-convert:hover {\n",
              "      background-color: #434B5C;\n",
              "      box-shadow: 0px 1px 3px 1px rgba(0, 0, 0, 0.15);\n",
              "      filter: drop-shadow(0px 1px 2px rgba(0, 0, 0, 0.3));\n",
              "      fill: #FFFFFF;\n",
              "    }\n",
              "  </style>\n",
              "\n",
              "    <script>\n",
              "      const buttonEl =\n",
              "        document.querySelector('#df-e52d4b6a-3970-40f1-a97d-f180a6734370 button.colab-df-convert');\n",
              "      buttonEl.style.display =\n",
              "        google.colab.kernel.accessAllowed ? 'block' : 'none';\n",
              "\n",
              "      async function convertToInteractive(key) {\n",
              "        const element = document.querySelector('#df-e52d4b6a-3970-40f1-a97d-f180a6734370');\n",
              "        const dataTable =\n",
              "          await google.colab.kernel.invokeFunction('convertToInteractive',\n",
              "                                                    [key], {});\n",
              "        if (!dataTable) return;\n",
              "\n",
              "        const docLinkHtml = 'Like what you see? Visit the ' +\n",
              "          '<a target=\"_blank\" href=https://colab.research.google.com/notebooks/data_table.ipynb>data table notebook</a>'\n",
              "          + ' to learn more about interactive tables.';\n",
              "        element.innerHTML = '';\n",
              "        dataTable['output_type'] = 'display_data';\n",
              "        await google.colab.output.renderOutput(dataTable, element);\n",
              "        const docLink = document.createElement('div');\n",
              "        docLink.innerHTML = docLinkHtml;\n",
              "        element.appendChild(docLink);\n",
              "      }\n",
              "    </script>\n",
              "  </div>\n",
              "\n",
              "\n",
              "    <div id=\"df-eed0aa93-1e10-4922-ac4d-7c09b1a19359\">\n",
              "      <button class=\"colab-df-quickchart\" onclick=\"quickchart('df-eed0aa93-1e10-4922-ac4d-7c09b1a19359')\"\n",
              "                title=\"Suggest charts\"\n",
              "                style=\"display:none;\">\n",
              "\n",
              "<svg xmlns=\"http://www.w3.org/2000/svg\" height=\"24px\"viewBox=\"0 0 24 24\"\n",
              "     width=\"24px\">\n",
              "    <g>\n",
              "        <path d=\"M19 3H5c-1.1 0-2 .9-2 2v14c0 1.1.9 2 2 2h14c1.1 0 2-.9 2-2V5c0-1.1-.9-2-2-2zM9 17H7v-7h2v7zm4 0h-2V7h2v10zm4 0h-2v-4h2v4z\"/>\n",
              "    </g>\n",
              "</svg>\n",
              "      </button>\n",
              "\n",
              "<style>\n",
              "  .colab-df-quickchart {\n",
              "      --bg-color: #E8F0FE;\n",
              "      --fill-color: #1967D2;\n",
              "      --hover-bg-color: #E2EBFA;\n",
              "      --hover-fill-color: #174EA6;\n",
              "      --disabled-fill-color: #AAA;\n",
              "      --disabled-bg-color: #DDD;\n",
              "  }\n",
              "\n",
              "  [theme=dark] .colab-df-quickchart {\n",
              "      --bg-color: #3B4455;\n",
              "      --fill-color: #D2E3FC;\n",
              "      --hover-bg-color: #434B5C;\n",
              "      --hover-fill-color: #FFFFFF;\n",
              "      --disabled-bg-color: #3B4455;\n",
              "      --disabled-fill-color: #666;\n",
              "  }\n",
              "\n",
              "  .colab-df-quickchart {\n",
              "    background-color: var(--bg-color);\n",
              "    border: none;\n",
              "    border-radius: 50%;\n",
              "    cursor: pointer;\n",
              "    display: none;\n",
              "    fill: var(--fill-color);\n",
              "    height: 32px;\n",
              "    padding: 0;\n",
              "    width: 32px;\n",
              "  }\n",
              "\n",
              "  .colab-df-quickchart:hover {\n",
              "    background-color: var(--hover-bg-color);\n",
              "    box-shadow: 0 1px 2px rgba(60, 64, 67, 0.3), 0 1px 3px 1px rgba(60, 64, 67, 0.15);\n",
              "    fill: var(--button-hover-fill-color);\n",
              "  }\n",
              "\n",
              "  .colab-df-quickchart-complete:disabled,\n",
              "  .colab-df-quickchart-complete:disabled:hover {\n",
              "    background-color: var(--disabled-bg-color);\n",
              "    fill: var(--disabled-fill-color);\n",
              "    box-shadow: none;\n",
              "  }\n",
              "\n",
              "  .colab-df-spinner {\n",
              "    border: 2px solid var(--fill-color);\n",
              "    border-color: transparent;\n",
              "    border-bottom-color: var(--fill-color);\n",
              "    animation:\n",
              "      spin 1s steps(1) infinite;\n",
              "  }\n",
              "\n",
              "  @keyframes spin {\n",
              "    0% {\n",
              "      border-color: transparent;\n",
              "      border-bottom-color: var(--fill-color);\n",
              "      border-left-color: var(--fill-color);\n",
              "    }\n",
              "    20% {\n",
              "      border-color: transparent;\n",
              "      border-left-color: var(--fill-color);\n",
              "      border-top-color: var(--fill-color);\n",
              "    }\n",
              "    30% {\n",
              "      border-color: transparent;\n",
              "      border-left-color: var(--fill-color);\n",
              "      border-top-color: var(--fill-color);\n",
              "      border-right-color: var(--fill-color);\n",
              "    }\n",
              "    40% {\n",
              "      border-color: transparent;\n",
              "      border-right-color: var(--fill-color);\n",
              "      border-top-color: var(--fill-color);\n",
              "    }\n",
              "    60% {\n",
              "      border-color: transparent;\n",
              "      border-right-color: var(--fill-color);\n",
              "    }\n",
              "    80% {\n",
              "      border-color: transparent;\n",
              "      border-right-color: var(--fill-color);\n",
              "      border-bottom-color: var(--fill-color);\n",
              "    }\n",
              "    90% {\n",
              "      border-color: transparent;\n",
              "      border-bottom-color: var(--fill-color);\n",
              "    }\n",
              "  }\n",
              "</style>\n",
              "\n",
              "      <script>\n",
              "        async function quickchart(key) {\n",
              "          const quickchartButtonEl =\n",
              "            document.querySelector('#' + key + ' button');\n",
              "          quickchartButtonEl.disabled = true;  // To prevent multiple clicks.\n",
              "          quickchartButtonEl.classList.add('colab-df-spinner');\n",
              "          try {\n",
              "            const charts = await google.colab.kernel.invokeFunction(\n",
              "                'suggestCharts', [key], {});\n",
              "          } catch (error) {\n",
              "            console.error('Error during call to suggestCharts:', error);\n",
              "          }\n",
              "          quickchartButtonEl.classList.remove('colab-df-spinner');\n",
              "          quickchartButtonEl.classList.add('colab-df-quickchart-complete');\n",
              "        }\n",
              "        (() => {\n",
              "          let quickchartButtonEl =\n",
              "            document.querySelector('#df-eed0aa93-1e10-4922-ac4d-7c09b1a19359 button');\n",
              "          quickchartButtonEl.style.display =\n",
              "            google.colab.kernel.accessAllowed ? 'block' : 'none';\n",
              "        })();\n",
              "      </script>\n",
              "    </div>\n",
              "\n",
              "  <div id=\"id_0b6d9cf8-8926-446c-9914-02e279d70f14\">\n",
              "    <style>\n",
              "      .colab-df-generate {\n",
              "        background-color: #E8F0FE;\n",
              "        border: none;\n",
              "        border-radius: 50%;\n",
              "        cursor: pointer;\n",
              "        display: none;\n",
              "        fill: #1967D2;\n",
              "        height: 32px;\n",
              "        padding: 0 0 0 0;\n",
              "        width: 32px;\n",
              "      }\n",
              "\n",
              "      .colab-df-generate:hover {\n",
              "        background-color: #E2EBFA;\n",
              "        box-shadow: 0px 1px 2px rgba(60, 64, 67, 0.3), 0px 1px 3px 1px rgba(60, 64, 67, 0.15);\n",
              "        fill: #174EA6;\n",
              "      }\n",
              "\n",
              "      [theme=dark] .colab-df-generate {\n",
              "        background-color: #3B4455;\n",
              "        fill: #D2E3FC;\n",
              "      }\n",
              "\n",
              "      [theme=dark] .colab-df-generate:hover {\n",
              "        background-color: #434B5C;\n",
              "        box-shadow: 0px 1px 3px 1px rgba(0, 0, 0, 0.15);\n",
              "        filter: drop-shadow(0px 1px 2px rgba(0, 0, 0, 0.3));\n",
              "        fill: #FFFFFF;\n",
              "      }\n",
              "    </style>\n",
              "    <button class=\"colab-df-generate\" onclick=\"generateWithVariable('loandata')\"\n",
              "            title=\"Generate code using this dataframe.\"\n",
              "            style=\"display:none;\">\n",
              "\n",
              "  <svg xmlns=\"http://www.w3.org/2000/svg\" height=\"24px\"viewBox=\"0 0 24 24\"\n",
              "       width=\"24px\">\n",
              "    <path d=\"M7,19H8.4L18.45,9,17,7.55,7,17.6ZM5,21V16.75L18.45,3.32a2,2,0,0,1,2.83,0l1.4,1.43a1.91,1.91,0,0,1,.58,1.4,1.91,1.91,0,0,1-.58,1.4L9.25,21ZM18.45,9,17,7.55Zm-12,3A5.31,5.31,0,0,0,4.9,8.1,5.31,5.31,0,0,0,1,6.5,5.31,5.31,0,0,0,4.9,4.9,5.31,5.31,0,0,0,6.5,1,5.31,5.31,0,0,0,8.1,4.9,5.31,5.31,0,0,0,12,6.5,5.46,5.46,0,0,0,6.5,12Z\"/>\n",
              "  </svg>\n",
              "    </button>\n",
              "    <script>\n",
              "      (() => {\n",
              "      const buttonEl =\n",
              "        document.querySelector('#id_0b6d9cf8-8926-446c-9914-02e279d70f14 button.colab-df-generate');\n",
              "      buttonEl.style.display =\n",
              "        google.colab.kernel.accessAllowed ? 'block' : 'none';\n",
              "\n",
              "      buttonEl.onclick = () => {\n",
              "        google.colab.notebook.generateWithVariable('loandata');\n",
              "      }\n",
              "      })();\n",
              "    </script>\n",
              "  </div>\n",
              "\n",
              "    </div>\n",
              "  </div>\n"
            ],
            "application/vnd.google.colaboratory.intrinsic+json": {
              "type": "dataframe",
              "variable_name": "loandata",
              "summary": "{\n  \"name\": \"loandata\",\n  \"rows\": 50000,\n  \"fields\": [\n    {\n      \"column\": \"applicant_id\",\n      \"properties\": {\n        \"dtype\": \"number\",\n        \"std\": 14433,\n        \"min\": 0,\n        \"max\": 49999,\n        \"num_unique_values\": 50000,\n        \"samples\": [\n          33553,\n          9427,\n          199\n        ],\n        \"semantic_type\": \"\",\n        \"description\": \"\"\n      }\n    },\n    {\n      \"column\": \"age\",\n      \"properties\": {\n        \"dtype\": \"number\",\n        \"std\": 4,\n        \"min\": 19,\n        \"max\": 46,\n        \"num_unique_values\": 27,\n        \"samples\": [\n          25,\n          32,\n          22\n        ],\n        \"semantic_type\": \"\",\n        \"description\": \"\"\n      }\n    },\n    {\n      \"column\": \"sex\",\n      \"properties\": {\n        \"dtype\": \"category\",\n        \"num_unique_values\": 2,\n        \"samples\": [\n          \"M\",\n          \"F\"\n        ],\n        \"semantic_type\": \"\",\n        \"description\": \"\"\n      }\n    },\n    {\n      \"column\": \"race\",\n      \"properties\": {\n        \"dtype\": \"category\",\n        \"num_unique_values\": 4,\n        \"samples\": [\n          \"Asian\",\n          \"Black\"\n        ],\n        \"semantic_type\": \"\",\n        \"description\": \"\"\n      }\n    },\n    {\n      \"column\": \"income\",\n      \"properties\": {\n        \"dtype\": \"number\",\n        \"std\": 13790,\n        \"min\": 1000,\n        \"max\": 135000,\n        \"num_unique_values\": 118,\n        \"samples\": [\n          52000,\n          97000\n        ],\n        \"semantic_type\": \"\",\n        \"description\": \"\"\n      }\n    },\n    {\n      \"column\": \"credit_score\",\n      \"properties\": {\n        \"dtype\": \"number\",\n        \"std\": 132,\n        \"min\": 300,\n        \"max\": 850,\n        \"num_unique_values\": 551,\n        \"samples\": [\n          309,\n          432\n        ],\n        \"semantic_type\": \"\",\n        \"description\": \"\"\n      }\n    },\n    {\n      \"column\": \"dti\",\n      \"properties\": {\n        \"dtype\": \"number\",\n        \"std\": 0.10362061981983887,\n        \"min\": 0.02,\n        \"max\": 0.656,\n        \"num_unique_values\": 562,\n        \"samples\": [\n          0.553,\n          0.611\n        ],\n        \"semantic_type\": \"\",\n        \"description\": \"\"\n      }\n    },\n    {\n      \"column\": \"institution_id\",\n      \"properties\": {\n        \"dtype\": \"number\",\n        \"std\": 64,\n        \"min\": 0,\n        \"max\": 249,\n        \"num_unique_values\": 250,\n        \"samples\": [\n          45,\n          120\n        ],\n        \"semantic_type\": \"\",\n        \"description\": \"\"\n      }\n    },\n    {\n      \"column\": \"cohort_default_rate\",\n      \"properties\": {\n        \"dtype\": \"number\",\n        \"std\": 0.0739959426780998,\n        \"min\": 0.0,\n        \"max\": 0.3749,\n        \"num_unique_values\": 226,\n        \"samples\": [\n          0.0627,\n          0.0898\n        ],\n        \"semantic_type\": \"\",\n        \"description\": \"\"\n      }\n    },\n    {\n      \"column\": \"program_level\",\n      \"properties\": {\n        \"dtype\": \"category\",\n        \"num_unique_values\": 2,\n        \"samples\": [\n          \"graduate\",\n          \"undergrad\"\n        ],\n        \"semantic_type\": \"\",\n        \"description\": \"\"\n      }\n    },\n    {\n      \"column\": \"major\",\n      \"properties\": {\n        \"dtype\": \"category\",\n        \"num_unique_values\": 4,\n        \"samples\": [\n          \"Arts\",\n          \"Business\"\n        ],\n        \"semantic_type\": \"\",\n        \"description\": \"\"\n      }\n    },\n    {\n      \"column\": \"loan_amount\",\n      \"properties\": {\n        \"dtype\": \"number\",\n        \"std\": 27097.171861282583,\n        \"min\": 5000.0,\n        \"max\": 250000.0,\n        \"num_unique_values\": 217,\n        \"samples\": [\n          225000.0,\n          243000.0\n        ],\n        \"semantic_type\": \"\",\n        \"description\": \"\"\n      }\n    },\n    {\n      \"column\": \"model1_recommendation\",\n      \"properties\": {\n        \"dtype\": \"number\",\n        \"std\": 0,\n        \"min\": 0,\n        \"max\": 1,\n        \"num_unique_values\": 2,\n        \"samples\": [\n          0,\n          1\n        ],\n        \"semantic_type\": \"\",\n        \"description\": \"\"\n      }\n    },\n    {\n      \"column\": \"model2_recommendation\",\n      \"properties\": {\n        \"dtype\": \"number\",\n        \"std\": 0,\n        \"min\": 0,\n        \"max\": 1,\n        \"num_unique_values\": 2,\n        \"samples\": [\n          0,\n          1\n        ],\n        \"semantic_type\": \"\",\n        \"description\": \"\"\n      }\n    },\n    {\n      \"column\": \"loan_granted\",\n      \"properties\": {\n        \"dtype\": \"number\",\n        \"std\": 0,\n        \"min\": 0,\n        \"max\": 1,\n        \"num_unique_values\": 2,\n        \"samples\": [\n          0,\n          1\n        ],\n        \"semantic_type\": \"\",\n        \"description\": \"\"\n      }\n    },\n    {\n      \"column\": \"good_loan\",\n      \"properties\": {\n        \"dtype\": \"Int8\",\n        \"num_unique_values\": 2,\n        \"samples\": [\n          0,\n          1\n        ],\n        \"semantic_type\": \"\",\n        \"description\": \"\"\n      }\n    }\n  ]\n}"
            }
          },
          "metadata": {},
          "execution_count": 33
        }
      ],
      "source": [
        "loandata # evaluate this cell to see a table representation of the data"
      ]
    },
    {
      "cell_type": "markdown",
      "metadata": {
        "id": "VxvGxTzVx37H"
      },
      "source": [
        "Each row in the data describes an applicant for a student loan.\n",
        "\n",
        "The _input features_ describe properties of the applicant such as their income, credit score (a FICO score, which itself is the output of a model based on information about an individuals' credit history), as well as information about the institution they are attending and their degree level (`program_level`) and `major`.\n",
        "\n",
        "The data includes predictions made by models recommending whether a loan should be approved:\n",
        "- `model1_recommendation`\n",
        "- `model2_recommendation`\n",
        "\n",
        "The value in each of these fields is `1`, which means the model recommends approving the loan application, or `0`, meaning the model recommends rejecting the loan application.\n",
        "\n",
        "Since this is (simulated) historical data, the data also has fields that indicate if the loan was granted by some other system (possibly just involving human judgment) and its performance:\n",
        "- `loan_granted`: `1` if the loan was granted\n",
        "- `good_loan` : `1` if the loan was paid back, `0` if the loan was bad (in deliquency or defaulted).\n",
        "\n",
        "Note that for applications where the loan was not granted (`loan_granted == 0`), it is unknown whether or not that applicant would have paid back the loan (the value of `good_loan` for these loans is `NaN` (\"not a number\"), meaning that the field value is not known)."
      ]
    },
    {
      "cell_type": "markdown",
      "metadata": {
        "id": "QvYdsZx2GUgS"
      },
      "source": [
        "### Problem 1\n",
        "\n",
        "To get started understanding the data and code, you will write some code to determine some statistics on the provided data:\n",
        "\n",
        "- the recommended approval rate for the model (number of loan applications where `model1_recommendation` is 1 divided by the total number of loan applications)\n",
        "\n",
        "- the historical appoval rate (the number of loan applications that were granted (`loan_granted` is 1) divided by the total number of loan applications).\n",
        "\n",
        "- the historical _default rate_ (of the loans that were granted, the fraction where `good_loan` is 0)\n",
        "\n",
        "- the number of loan applications where the historical decision (`loan_granted`) and the model's recommendaion (`model1_recommendation`) disagree\n",
        "\n",
        "Feel free (encouraged!) to use AI tools to generate the code, but you should understand all the code you use well enough to be able to manually change it to compute other rates and to be convinced that it is correct.\n",
        "\n",
        "In colab generative AI assistance is turned on by default - see \"Tools | Settings | AI Assistance\". If you just starting typing, it may guess what you want and write correct code for you! (If you see something useful appear, just type the `Tab` key to get it.)  "
      ]
    },
    {
      "cell_type": "code",
      "execution_count": 34,
      "metadata": {
        "colab": {
          "base_uri": "https://localhost:8080/"
        },
        "id": "pPkuwTpaJqvV",
        "outputId": "080eb134-cd78-41c0-ee56-7e4cd27a740e"
      },
      "outputs": [
        {
          "output_type": "stream",
          "name": "stdout",
          "text": [
            "Approval recommendation rate: 0.6\n"
          ]
        }
      ],
      "source": [
        "# Here's code that computes the approval recommendation rate for model1:\n",
        "approved = loandata['model1_recommendation'].sum()\n",
        "total = len(loandata)\n",
        "rate = approved / total\n",
        "print(f\"Approval recommendation rate: {rate}\")"
      ]
    },
    {
      "cell_type": "code",
      "execution_count": 35,
      "metadata": {
        "colab": {
          "base_uri": "https://localhost:8080/"
        },
        "id": "D_3Bgrh2sUS5",
        "outputId": "ee44110e-2857-4e94-cb27-0c285fdc2ed7"
      },
      "outputs": [
        {
          "output_type": "stream",
          "name": "stdout",
          "text": [
            "Approval historical rate: 0.70058\n"
          ]
        }
      ],
      "source": [
        "# 1a: Enter your code to compute the historical loan granted rate in this cell.\n",
        "granted_loans = loandata['loan_granted'].sum()\n",
        "historical_approved_rate = granted_loans / total\n",
        "print(f\"Approval historical rate: {historical_approved_rate}\")"
      ]
    },
    {
      "cell_type": "code",
      "execution_count": 36,
      "metadata": {
        "colab": {
          "base_uri": "https://localhost:8080/"
        },
        "id": "T9dCyksYsdWv",
        "outputId": "1582c1d8-d74e-453c-b04b-8ae0a5633746"
      },
      "outputs": [
        {
          "output_type": "stream",
          "name": "stdout",
          "text": [
            "Historical default rate: 0.06837192040880413\n"
          ]
        }
      ],
      "source": [
        "# 1b: Enter your code to compute the historical default rate in this cell.\n",
        "granted_loans = loandata[loandata['loan_granted'] == 1]\n",
        "good_loans_zero = (granted_loans['good_loan'] == 0).sum()\n",
        "total_loans_granted = len(granted_loans)\n",
        "historical_default_rate = good_loans_zero / total_loans_granted\n",
        "print(f\"Historical default rate: {historical_default_rate}\")"
      ]
    },
    {
      "cell_type": "code",
      "execution_count": 37,
      "metadata": {
        "colab": {
          "base_uri": "https://localhost:8080/"
        },
        "id": "YdPQo2FweO7E",
        "outputId": "cd9f20a9-6932-4d92-99dd-bc345b269aad"
      },
      "outputs": [
        {
          "output_type": "stream",
          "name": "stdout",
          "text": [
            "Number of loan decisions where the model 1 and historical decision are different: 10099\n",
            "Number of loan decisions where the model 2 and historical decision are different: 9151\n"
          ]
        }
      ],
      "source": [
        "# 1c: Enter your code to compute the number of loan decisions where the model and historical decision are different.\n",
        "disagree_model1 = (loandata['model1_recommendation'] != loandata['loan_granted']).sum()\n",
        "print(f\"Number of loan decisions where the model 1 and historical decision are different: {disagree_model1}\")\n",
        "\n",
        "disagree_model2 = (loandata['model2_recommendation'] != loandata['loan_granted']).sum()\n",
        "print(f\"Number of loan decisions where the model 2 and historical decision are different: {disagree_model2}\")"
      ]
    },
    {
      "cell_type": "markdown",
      "metadata": {
        "id": "gCkczID_0Xxi"
      },
      "source": [
        "## Fairness in Loan Decisions"
      ]
    },
    {
      "cell_type": "markdown",
      "metadata": {
        "id": "Mrhh0XWd1WnB"
      },
      "source": [
        "Next, we will do some visualizations to explore the data and consider potential fairness issues."
      ]
    },
    {
      "cell_type": "markdown",
      "metadata": {
        "id": "0H6fCriv1rO7"
      },
      "source": [
        "Execure the cell below to define a function for graphing the rate of an outcome (e.g., the loan application being approved) by some numeric attribute (e.g., the credit score) for a different categorical attribute (e.g., race).\n",
        "\n",
        "Don't worry about understanding this code (unless you want to), but it needs to be executed. The cell after the code will show you how to use it to generate graphs."
      ]
    },
    {
      "cell_type": "code",
      "execution_count": 38,
      "metadata": {
        "id": "f76501d1"
      },
      "outputs": [],
      "source": [
        "from matplotlib import pyplot as plt\n",
        "\n",
        "def plot_outcome_rate_by_attribute(df, x_attribute, y_attribute, split_attribute):\n",
        "    \"\"\"\n",
        "    Generates a line plot showing the approval rate by a specified attribute,\n",
        "    with separate lines for each split and an overall line for all splits.\n",
        "    [ Generated by Gemini, with minor edits ]\n",
        "    \"\"\"\n",
        "\n",
        "    bins = pd.cut(df[x_attribute], bins=20) # You can adjust the number of bins\n",
        "    approval_rates_by_split = df.groupby([bins, split_attribute], observed=True)[y_attribute].value_counts(normalize=True).unstack().fillna(0)\n",
        "\n",
        "    overall_approval_rates = df.groupby(bins, observed=True)[y_attribute].value_counts(normalize=True).unstack().fillna(0)\n",
        "    approval_rates_by_split_favorable = approval_rates_by_split.get(1, pd.Series(0, index=approval_rates_by_split.index))\n",
        "    overall_approval_rates_favorable = overall_approval_rates.get(1, pd.Series(0, index=overall_approval_rates.index))\n",
        "\n",
        "    overall_approval_rates_favorable.index = pd.MultiIndex.from_product([overall_approval_rates_favorable.index, ['All']], names=[x_attribute, split_attribute])\n",
        "    overall_approval_rates_favorable = overall_approval_rates_favorable.unstack(level=1)\n",
        "\n",
        "    approval_rates_by_split_reset = approval_rates_by_split_favorable.unstack().reset_index()\n",
        "    overall_approval_rates_reset = overall_approval_rates_favorable.reset_index()\n",
        "\n",
        "    merged_approval_rates = pd.merge(approval_rates_by_split_reset, overall_approval_rates_reset, on=x_attribute, how='left')\n",
        "    merged_approval_rates = merged_approval_rates.set_index(x_attribute)\n",
        "\n",
        "    # Uncomment these lines if you want to print out the data:\n",
        "    # print(f\"{y_attribute.capitalize()} rate by {x_attribute} range and {split_attribute}:\")\n",
        "    # print(merged_approval_rates)\n",
        "\n",
        "    merged_approval_rates.plot(kind='line')\n",
        "    plt.xlabel(f'{x_attribute.replace(\"_\", \" \").title()} Range')\n",
        "    plt.ylabel(f'{y_attribute.capitalize()} Rate')\n",
        "    plt.title(f'{y_attribute.capitalize()} Rate by {x_attribute.replace(\"_\", \" \").title()} Range and {split_attribute.capitalize()}')\n",
        "    plt.xticks(rotation=90)\n",
        "    plt.grid(axis='y')\n",
        "    plt.show()"
      ]
    },
    {
      "cell_type": "markdown",
      "metadata": {
        "id": "u3-8hDupNqQY"
      },
      "source": [
        "The example code below produces a graph that shows the approval rate by major as credit score varies on the horizontal axis:"
      ]
    },
    {
      "cell_type": "code",
      "execution_count": 39,
      "metadata": {
        "colab": {
          "base_uri": "https://localhost:8080/",
          "height": 565
        },
        "id": "4c73a030",
        "outputId": "cc74148d-fcee-49f1-d9bb-a4f7a8a5446c"
      },
      "outputs": [
        {
          "output_type": "display_data",
          "data": {
            "text/plain": [
              "<Figure size 640x480 with 1 Axes>"
            ],
            "image/png": "[encoded data removed]"
          },
          "metadata": {}
        }
      ],
      "source": [
        "plot_outcome_rate_by_attribute(loandata, 'credit_score', 'model1_recommendation', 'major')"
      ]
    },
    {
      "cell_type": "markdown",
      "metadata": {
        "id": "_ts9PB0FNzRn"
      },
      "source": [
        "### Problem 2\n",
        "\n",
        "Use the `plot_outcome_rate_by_attribute` function to graph different properties of the data.  Generate a graph that shows disparaties in loan outcomes based on a protected characteristic (code in the first box below), and describe your interpretation of the graph (text in the second box below).  "
      ]
    },
    {
      "cell_type": "code",
      "execution_count": 40,
      "metadata": {
        "colab": {
          "base_uri": "https://localhost:8080/",
          "height": 565
        },
        "id": "LIaiKVEBOc_n",
        "outputId": "447c6c6e-69c7-452a-87bc-bbd67cec03ed"
      },
      "outputs": [
        {
          "output_type": "display_data",
          "data": {
            "text/plain": [
              "<Figure size 640x480 with 1 Axes>"
            ],
            "image/png": "[encoded data removed]"
          },
          "metadata": {}
        }
      ],
      "source": [
        "# use this box to write your code to generate graphs of different properties\n",
        "plot_outcome_rate_by_attribute(loandata, 'age', 'model2_recommendation', 'loan_granted')"
      ]
    },
    {
      "cell_type": "markdown",
      "metadata": {
        "id": "RCCU41J2OjIw"
      },
      "source": [
        "This plot shows how Model 2's loan recommendation rate changes across age ranges, separated by whether loans were historically granted or denied. The orange line remains consistently high (around 0.8-0.9), indicating that applicants who were previously approved are also recommended by the model across most ages. The blue line stays much lower (around 0.1-0.3), showing that applicants who were historically denied continue to receive low recommendation rates. The green line reflects the overall trend, falling between the other two lines. A clear trend is that the overall recommendation rate increases gradually with age, suggesting that younger applicants are less likely to be recommended compared to older applicants. This age-dependent slope raises fairness concerns as age is a legally protected characteristic in lending. At the far right of the graph, the sharp spike upward followed by a sudden drop likely reflects sparse data in the oldest age bins. Overall, the plot indicates that Model 2 largely mirrors historical loan decisions, granting more approvals to those already approved in the past, but also reinforcing an age-related disparity. Younger applicants are systematically disadvantaged, which may pose risks of disparate impact and potential violations of fair lending laws."
      ]
    },
    {
      "cell_type": "markdown",
      "metadata": {
        "id": "Qz_WB_0FvNyO"
      },
      "source": [
        "## Quantitative Fairness Metrics\n",
        "\n",
        "There are many different measures of fairness, and attempts to capture desired fairness properties in mathematical definition.\n",
        "\n",
        "We will consider three statistical definitions related to fairness that are described in [Chapter 3: Classification](https://fairmlbook.org/classification.html) of the [Fair ML Book](https://fairmlbook.org).\n",
        "\n",
        "## Disparate Impact\n",
        "\n",
        "The readings chapter from the FairML book introduces several different metrics that could be used to assess fairness.\n",
        "\n",
        "The first one, _independence_, also known as _demographic parity_, is a statistical test on the outcomes.\n"
      ]
    },
    {
      "cell_type": "markdown",
      "metadata": {
        "id": "vyoL_ZQao7Th"
      },
      "source": [
        "Given a dataset, we can compute demographic parity from this confusion matrix:\n",
        "\n",
        "| Output | Minority Class | Majority Class |\n",
        "| ------- | --------------| --------------|\n",
        "| Negative Outcome (Loan Rejected) | $a$ | $b$ |\n",
        "| Positive Outcome (Loan Accepted) | $c$ | $d$ |\n",
        "\n",
        "If the outcome is independent of the variable used to separate the classes, then the ratio of the acceptance rates should be close to 1. We can compute this ratio as\n",
        "\n",
        "$$ \\frac{c/(a+c)}{d/(d+b)} $$\n",
        "\n",
        "If the positive outcome (in this case, the loan application being accepted) is less likely for the minority class, then the value of the ratio will be less than 1.\n"
      ]
    },
    {
      "cell_type": "markdown",
      "metadata": {
        "id": "vNNcDjydXF83"
      },
      "source": [
        "### Problem 3\n",
        "\n",
        "Define a function `disparate_impact` that measures the independence of an outcome variable given two population subsets. It should take as input two data frames, the first representing the `majority` class and the second representing the `minority` class, the name of the outcome features (e.g., `approved`), and the favorable outcome value. It should return the ratio of the favorable outcome rate for the minority group to the favorable outcome rate for the majority group.\n",
        "\n",
        "We have provided some test code in the cell below for trying your code on the loan data."
      ]
    },
    {
      "cell_type": "code",
      "execution_count": 41,
      "metadata": {
        "id": "LLuooTqwXHfg"
      },
      "outputs": [],
      "source": [
        "def disparate_impact(majority, minority, outcome, favorable=1):\n",
        "  # fill in your code here\\\n",
        "  majority_rate = (majority[outcome] == favorable).mean()\n",
        "  minority_rate = (minority[outcome] == favorable).mean()\n",
        "\n",
        "  if majority_rate == 0:\n",
        "    return None\n",
        "  ratio = minority_rate / majority_rate\n",
        "\n",
        "  return ratio"
      ]
    },
    {
      "cell_type": "code",
      "execution_count": 42,
      "metadata": {
        "colab": {
          "base_uri": "https://localhost:8080/"
        },
        "id": "QqgWqVegZ0ga",
        "outputId": "8ea4daab-530d-4a8b-bffc-e125dd298ba1"
      },
      "outputs": [
        {
          "output_type": "stream",
          "name": "stdout",
          "text": [
            "Granted: Disparate Impact (B/W): 0.586\n",
            "Model1: Disparate Impact (B/W): 0.755\n",
            "Model2: Disparate Impact (B/W): 0.818\n",
            "Disparate Impact (A/W): 1.075\n",
            "Model 1 Disparate Impact (A/W): 1.150\n",
            "Model 2 Disparate Impact (A/W): 1.041\n",
            "Disparate Impact (<35/35+): 1.024\n",
            "Total # of Black applicants: 6778\n",
            "Total # of Asian applicants: 4209\n",
            "Total # of White applicants: 32367\n"
          ]
        }
      ],
      "source": [
        " # Here is some code for testing your disparate_impact function\n",
        "minority = loandata[loandata['race'] == \"Black\"] # select all records where race is Black\n",
        "majority = loandata[loandata['race'] == \"White\"] # select all records where race is White\n",
        "di = disparate_impact(majority, minority, outcome='loan_granted')\n",
        "print(f\"Granted: Disparate Impact (B/W): {di:.3f}\")\n",
        "\n",
        "di = disparate_impact(majority, minority, outcome='model1_recommendation')\n",
        "print(f\"Model1: Disparate Impact (B/W): {di:.3f}\")\n",
        "\n",
        "di = disparate_impact(majority, minority, outcome='model2_recommendation')\n",
        "print(f\"Model2: Disparate Impact (B/W): {di:.3f}\")\n",
        "\n",
        "minority = loandata[loandata['race'] == \"Asian\"]\n",
        "majority = loandata[loandata['race'] == \"White\"]\n",
        "di = disparate_impact(majority, minority, outcome='loan_granted')\n",
        "print(f\"Disparate Impact (A/W): {di:.3f}\")\n",
        "di = disparate_impact(majority, minority, outcome='model1_recommendation')\n",
        "print(f\"Model 1 Disparate Impact (A/W): {di:.3f}\")\n",
        "di = disparate_impact(majority, minority, outcome='model2_recommendation')\n",
        "print(f\"Model 2 Disparate Impact (A/W): {di:.3f}\")\n",
        "\n",
        "minority = loandata[loandata['age'] < 35]\n",
        "majority = loandata[loandata['age'] >= 35]\n",
        "di = disparate_impact(majority, minority, outcome='loan_granted')\n",
        "print(f\"Disparate Impact (<35/35+): {di:.3f}\")\n",
        "\n",
        "minority = loandata[loandata['race'] == \"Black\"]['race'].count()\n",
        "print(f\"Total # of Black applicants: {loandata[loandata['race'] == 'Black']['race'].count()}\")\n",
        "\n",
        "minority = loandata[loandata['race'] == \"Asian\"]['race'].count()\n",
        "print(f\"Total # of Asian applicants: {loandata[loandata['race'] == 'Asian']['race'].count()}\")\n",
        "\n",
        "majority = loandata[loandata['race'] == \"White\"]['race'].count()\n",
        "print(f\"Total # of White applicants: {loandata[loandata['race'] == 'White']['race'].count()}\")\n"
      ]
    },
    {
      "cell_type": "markdown",
      "metadata": {
        "id": "-SFNngMGGQnH"
      },
      "source": [
        "### Problem 4\n",
        "\n",
        "As a team, write 2-3 paragrahs (aprox. 250 words) about what your tests with the `disparate_impact` function revealed about the data, including both the historical decisions and model's predictions. Without conducting a detailed legal analysis, what potential issues do you see that relate to both the potential for discrimination and for broader conceptions of fairness or statistical accuracy?"
      ]
    },
    {
      "cell_type": "markdown",
      "metadata": {
        "id": "ZyrCJWFYi4lD"
      },
      "source": [
        "Our results reveal that historical lending decisions reflect a fairness issue, with an explicit disparate impact between Black and White applicants (0.586 << 0.8). This means that Black applicants were approved at only 58.6% of the rate of White applicants. Model 1 (0.755) comes closer to reproducing this historical disparity than Model 2 (0.818), but both still overestimate approval rates for Black applicants, making them appear overly optimistic compared to reality. In contrast, both models perform well with respect to Asian and White applicants. The historical disparate impact ratio for Asians was 1.075, showing that Asian applicants were slightly more favored than White applicants, and both models reproduced this outcome. Thus, Asian applicants were not disadvantaged as a minority group, whereas Black applicants clearly were, and the models did not adequately capture that disadvantage.\n",
        "\n",
        "Both models and the actual historical approvals of loans granted are significantly lower than the proportion of White applicants' predicted and actual approval rate. Without a reasonable explanation of the disparity, this indicates evidence of discrimination against Black applicants. While the difference between actual granted loans and the models' predictions appears substantial, closer inspection shows the gap is less pronounced, especially for Black applicants. Based on Model 1's ratio (0.755), about 4094 Black applicants should have been approved, compared to the actual 3972—a difference of only about 3%. This suggests that Model 1's predictions are roughly consistent with historical outcomes, yet both history and the models still reflect the broader pattern of disadvantage against Black applicants."
      ]
    },
    {
      "cell_type": "markdown",
      "metadata": {
        "id": "nqn7SJctBA68"
      },
      "source": [
        "## Error Rate Parity\n",
        "\n",
        "The _error rate parity_ fairness notion is based on equalizing prediction error rates across classes. For the true positive rate, this reflects the probability of getting the positive prediction for an input where the true value is positive.\n",
        "\n",
        "With ground truth data, we can compute the error rates of a classifiers. The (simulated) historical data provides this for the granted loans.\n",
        "\n",
        "The `compute_error_rates` function defined below computes the true positive rate and false positive rate for an input data frame. We've provided the code for this, but you should be able to understand it."
      ]
    },
    {
      "cell_type": "code",
      "execution_count": 43,
      "metadata": {
        "id": "nxKKWBfNl1ji"
      },
      "outputs": [],
      "source": [
        "def compute_error_rates(df, prediction='model1_recommendation',\n",
        "                        verbose=False):\n",
        "  \"\"\"\n",
        "  Return the true positive rate and false positive rate\n",
        "  for the input prediction, where 'good_loan' gives the\n",
        "  true value. We defined a \"positive\" as a loan that was\n",
        "  recommended (by the prediction), and it is a \"true positive\"\n",
        "  if 'good_loan' == 1 and a \"false positive\" if 'good_loan' == 0.\n",
        "\n",
        "  df is a data frame of loan applications\n",
        "  \"\"\"\n",
        "  # We can only consider the granted loans, since we\n",
        "  # don't know if ungranted loans would have defaulted.\n",
        "  granted_loans = df[df['loan_granted'] == 1]\n",
        "  nloans = len(granted_loans)\n",
        "\n",
        "  # These define Boolean masks for the application indexes where\n",
        "  # the prediction recommends the loan, and where the loan was good.\n",
        "  recommended = (granted_loans[prediction] == 1)\n",
        "  goods = (granted_loans['good_loan'] == 1)\n",
        "\n",
        "  num_positives = len(granted_loans.loc[goods])\n",
        "  num_negatives = len(granted_loans.loc[~goods])\n",
        "\n",
        "  true_positives  = len(granted_loans.loc[recommended & goods])   # recommended and did not default\n",
        "  false_positives = len(granted_loans.loc[recommended & ~goods])  # recommended but defaulted\n",
        "\n",
        "  true_negatives  = len(granted_loans.loc[~recommended & ~goods]) # not recommended and defaulted\n",
        "  false_negatives = len(granted_loans.loc[~recommended & goods])  # not recommended but did not default\n",
        "\n",
        "  assert true_positives + false_negatives == num_positives\n",
        "  assert false_positives + true_negatives == num_negatives\n",
        "\n",
        "  tpr = true_positives / num_positives if num_positives > 0 else 0\n",
        "  fpr = false_positives / num_negatives if num_negatives > 0 else 0\n",
        "\n",
        "  if verbose:\n",
        "    print(f\"Group size: {len(df)}\")\n",
        "    print(f\"Granted loans: { len(granted_loans)}, \"\n",
        "          f\"Recommended approvals: { recommended.astype(int).sum() }, \"\n",
        "          f\"Defaults: { num_negatives } ({ (num_negatives / nloans):.3f}))\")\n",
        "    print(f\"Bad Approvals (False Positives): { false_positives } of { num_negatives } bad loans\")\n",
        "    print(f\"Bad Rejections (False Negatives): { false_negatives } of { num_positives } good loans\")\n",
        "\n",
        "  return tpr, fpr"
      ]
    },
    {
      "cell_type": "markdown",
      "metadata": {
        "id": "UtRNnThll5ek"
      },
      "source": [
        "Here's an example using it to see the error rates for a subpopulation:"
      ]
    },
    {
      "cell_type": "code",
      "execution_count": 44,
      "metadata": {
        "colab": {
          "base_uri": "https://localhost:8080/"
        },
        "id": "Y77d0ieHl57O",
        "outputId": "3dff8936-8cad-4e14-ee6c-787539fd68db"
      },
      "outputs": [
        {
          "output_type": "stream",
          "name": "stdout",
          "text": [
            "Group size: 50000\n",
            "Granted loans: 35029, Recommended approvals: 27465, Defaults: 2395 (0.068))\n",
            "Bad Approvals (False Positives): 497 of 2395 bad loans\n",
            "Bad Rejections (False Negatives): 5666 of 32634 good loans\n",
            "True Positive Rate: 0.826, False Positive Rate: 0.208\n",
            "Group size: 5246\n",
            "Granted loans: 4161, Recommended approvals: 3699, Defaults: 95 (0.023))\n",
            "Bad Approvals (False Positives): 44 of 95 bad loans\n",
            "Bad Rejections (False Negatives): 411 of 4066 good loans\n",
            "True Positive Rate: 0.899, False Positive Rate: 0.463\n"
          ]
        }
      ],
      "source": [
        "tpr, fpr = compute_error_rates(loandata, verbose=True)\n",
        "print(f\"True Positive Rate: {tpr:.3f}, False Positive Rate: {fpr:.3f}\")\n",
        "group = loandata[(loandata['major'] == 'Law')]\n",
        "tpr, fpr = compute_error_rates(group, verbose=True)\n",
        "print(f\"True Positive Rate: {tpr:.3f}, False Positive Rate: {fpr:.3f}\")"
      ]
    },
    {
      "cell_type": "markdown",
      "metadata": {
        "id": "VeeUolVtGnOv"
      },
      "source": [
        "### Problem 6\n",
        "\n",
        "Use error rate parity tests to examine the loan data and look for possible evidence of unfairness.\n",
        "\n",
        "You should use the following code cell to write code to explore the data, and the text cell after that to discuss your analysis and what the implications are for fairness.\n",
        "\n",
        "You can use the function we defined above, but are encouraged to go beyond this in expanding and automating your analysis."
      ]
    },
    {
      "cell_type": "code",
      "execution_count": 45,
      "metadata": {
        "colab": {
          "base_uri": "https://localhost:8080/"
        },
        "id": "pPR0vIGIAzsz",
        "outputId": "b7591fc3-8351-42e5-dc75-bb9625a60fdd"
      },
      "outputs": [
        {
          "output_type": "stream",
          "name": "stdout",
          "text": [
            "\n",
            "Error Rates by race for model1_recommendation:\n",
            "White: TPR=0.822, FPR=0.194\n",
            "Black: TPR=0.794, FPR=0.319\n",
            "Asian: TPR=0.889, FPR=0.262\n",
            "\n",
            "Error Rates by race for model2_recommendation:\n",
            "White: TPR=0.851, FPR=0.007\n",
            "Black: TPR=0.888, FPR=0.014\n",
            "Asian: TPR=0.840, FPR=0.011\n",
            "\n",
            "Error Rates by age for model1_recommendation:\n",
            "<35:  TPR=0.826, FPR=0.207\n",
            "35+:  TPR=0.872, FPR=0.212\n",
            "\n",
            "Error Rates by age for model2_recommendation:\n",
            "<35:  TPR=0.855, FPR=0.008\n",
            "35+:  TPR=0.924, FPR=0.000\n"
          ]
        }
      ],
      "source": [
        "for model in ['model1_recommendation', 'model2_recommendation']:\n",
        "    print(f\"\\nError Rates by race for {model}:\")\n",
        "    for race in ['White', 'Black', 'Asian']:\n",
        "        group = loandata[loandata['race'] == race]\n",
        "        tpr, fpr = compute_error_rates(group, prediction=model, verbose=False)\n",
        "        print(f\"{race}: TPR={tpr:.3f}, FPR={fpr:.3f}\")\n",
        "\n",
        "for model in ['model1_recommendation', 'model2_recommendation']:\n",
        "    print(f\"\\nError Rates by age for {model}:\")\n",
        "    under35 = loandata[loandata['age'] < 35]\n",
        "    over35  = loandata[loandata['age'] >= 35]\n",
        "    tpr_u, fpr_u = compute_error_rates(under35, prediction=model, verbose=False)\n",
        "    tpr_o, fpr_o = compute_error_rates(over35,  prediction=model, verbose=False)\n",
        "    print(f\"<35:  TPR={tpr_u:.3f}, FPR={fpr_u:.3f}\")\n",
        "    print(f\"35+:  TPR={tpr_o:.3f}, FPR={fpr_o:.3f}\")"
      ]
    },
    {
      "cell_type": "markdown",
      "metadata": {
        "id": "_qg5zgi4K8V4"
      },
      "source": [
        "As a team, write a one-paragraph explanation of your analysis and your interpretation of the results. Is the model unfair from the perspective of error rate parity? If so, in what ways?"
      ]
    },
    {
      "cell_type": "markdown",
      "metadata": {
        "id": "5SmBYl-ZuNGF"
      },
      "source": [
        "Our analysis of error rate parity shows evidence of unfairness in the models. In Model 1, the True Positive Rate (TPR) is higher for Asian applicants (0.889) than for Black applicants (0.794), while the False Positive Rate (FPR) varies widely (0.194 for White vs. 0.319 for Black). This indicates inconsistent error behavior across racial groups. Model 2 reduces these disparities, with both TPR and FPR more consistent across races, although Asian applicants have a slightly lower TPR (0.840) compared to Model 1. For age groups, Model 1 again shows imbalance. Applicants under 35 have a TPR of 0.826 and an FPR of 0.207, compared with 0.872 and 0.212 for applicants 35 and older. This means younger applicants face more false rejections of good loans and a higher rate of false approvals. Model 2 largely eliminates these disparities, producing very similar error rates across age categories. From the perspective of error rate parity, Model 1 fails to meet fairness standards across both race and age, while Model 2 achieves stronger parity and thus produces fairer outcomes."
      ]
    },
    {
      "cell_type": "markdown",
      "metadata": {
        "id": "db1CGnviBIse"
      },
      "source": [
        "#**Target for Week 1**\n",
        "\n",
        "This is where we expect you to get before the class on September 19. It is fine if you want to go further, of course. In class on September 19 we will answer any questions you have about the project up to here, talk some about the rest of the project, and give you some time to continue working in your team for the next part."
      ]
    },
    {
      "cell_type": "markdown",
      "metadata": {
        "id": "auA8F2nI_AUo"
      },
      "source": [
        "# Training Models\n",
        "\n"
      ]
    },
    {
      "cell_type": "markdown",
      "metadata": {
        "id": "AK6pnOmbLE_G"
      },
      "source": [
        "For the rest of this project, you will get some experience training and testing models and to attempt to train a model that both performs well (according to your loss function), that satisfies fairness goals, and that does not violate anti-discrimination laws. (Note that it may not be possible to satisfy all three of these!)"
      ]
    },
    {
      "cell_type": "markdown",
      "metadata": {
        "id": "rRn06XrKK9uU"
      },
      "source": [
        "\n",
        "We will use the sklearn library, which supports several different types of models.\n",
        "\n",
        "Execute the cell below to import some models from sklearn:"
      ]
    },
    {
      "cell_type": "code",
      "execution_count": 46,
      "metadata": {
        "id": "E4oX2wYnHmB3"
      },
      "outputs": [],
      "source": [
        "# Imports from sklearn for building and evaluating models.\n",
        "\n",
        "from sklearn.linear_model import LogisticRegression\n",
        "from sklearn.metrics import accuracy_score, confusion_matrix, f1_score, roc_auc_score"
      ]
    },
    {
      "cell_type": "markdown",
      "metadata": {
        "id": "XwP-vVzlQJ9R"
      },
      "source": [
        "To train a model, we need to select the data to train on (including the features to use in training), select the model architecture, and run an algorithm that trains the model.\n",
        "\n",
        "One of the things Earnest LLC is described as doing is training a model (the \"SLO model\", for  Student Loan Origination (new loans)) on decisions made by an earlier model (the \"SLR model\",for Student Loan Refinance).\n",
        "\n",
        "It is not clear from the settlement how the SLR model was developed, but we are going to simulate what is commonly done which is to train a model on available historical data. As you should understand from the readings and class discussions (and your explorations in this project), training models on historical data poses many pitfalls.\n"
      ]
    },
    {
      "cell_type": "markdown",
      "metadata": {
        "id": "RxopN16XFMm4"
      },
      "source": [
        "## Preparing the Data"
      ]
    },
    {
      "cell_type": "markdown",
      "metadata": {
        "id": "5tveYT7XMZ-V"
      },
      "source": [
        "Before we can use the available data for training, some preparation is useful to get it into a form that will be better for training.\n",
        "\n",
        "For this data, we change the categorical fields (e.g., `major` that can be one of a handful of different values in our data set) to a set of binary fields for each category (where the value will be `0` for each field, other than the one that corresponds to the actual categorical value for which it will be `1`).  Since there is no specific ordering of the values and a mapping to numbers would not make sense, converting the data this way should result in better results.\n",
        "\n",
        "The code below prepares the data in this format. It isn't important to understand this code."
      ]
    },
    {
      "cell_type": "code",
      "execution_count": 47,
      "metadata": {
        "id": "CF7y_Ctqo7Ti"
      },
      "outputs": [],
      "source": [
        "def prepare_data(df, training_features, prediction, verbose=False):\n",
        "    \"\"\"\n",
        "    Prepare data for training by handling categorical features and\n",
        "    separating features (X) and target (y).\n",
        "    \"\"\"\n",
        "    df = df.copy()\n",
        "    tf = training_features.copy() # copy to avoid modifying input\n",
        "    prepared_features = []\n",
        "\n",
        "    all_cols = list(df.columns)\n",
        "    numeric_cols = list(df.select_dtypes(include=\"number\").columns)\n",
        "    categorical_cols = list(df.select_dtypes(exclude=\"number\").columns)\n",
        "\n",
        "    # One-hot encode all categorical features in training_features\n",
        "    for c in categorical_cols:\n",
        "        if c in training_features:\n",
        "            tf.remove(c)\n",
        "            cats = pd.Index(sorted(df[c].astype(str).unique()))\n",
        "            if len(cats) > 2:\n",
        "              for v in cats:\n",
        "                  cat_feature = c + \"_\" + str(v)\n",
        "                  prepared_features.append(cat_feature)\n",
        "                  df[cat_feature] = (df[c] == v).astype(int)\n",
        "            else:\n",
        "              df[c] = (df[c] != cats[0]).astype(int)\n",
        "\n",
        "    # Add remaining training features (numeric) to prepared_features\n",
        "    prepared_features.extend([f for f in tf if f in numeric_cols])\n",
        "\n",
        "    # Ensure only selected and prepared training features are in X\n",
        "    X = df[prepared_features]\n",
        "    y = df[prediction]\n",
        "\n",
        "    if verbose: print(f\"X: {list(X.columns)}\")\n",
        "    if verbose: print(f\"y: {y.name} ({y.dtype})\")\n",
        "    assert len(X) == len(y), \"Feature and target lengths do not match.\"\n",
        "    return X, y"
      ]
    },
    {
      "cell_type": "markdown",
      "metadata": {
        "id": "iZ8O947ED18n"
      },
      "source": [
        "## Training Inference Models"
      ]
    },
    {
      "cell_type": "markdown",
      "metadata": {
        "id": "73_AL-z-S5pP"
      },
      "source": [
        "The function defined below takes the training data, a list of the fields to use in training, and the field to predict, and returns a model trained on the data.\n",
        "\n",
        "Here, we train a logistic regression model (CS students with ML experience may be able to explain what that is and write code to use different model types, but it is sufficient now to just understand that it is a simple model we can train to make binary predictions):"
      ]
    },
    {
      "cell_type": "code",
      "execution_count": 48,
      "metadata": {
        "id": "miyz-orkiAbC"
      },
      "outputs": [],
      "source": [
        "def train_model(training_data, training_fields,\n",
        "                prediction, verbose=True):\n",
        "  \"\"\"\n",
        "  Trains a model on the training_data using the training_fields\n",
        "  to predict the prediction output.\n",
        "  \"\"\"\n",
        "  X_train, y_train = prepare_data(training_data,\n",
        "                                  training_fields,\n",
        "                                  prediction)\n",
        "\n",
        "  # We use balanced class_weight here, but this is something\n",
        "  # you could try changing in the last problem.\n",
        "  # (Suggestion: ask a poe AI to explain class_weight parameter)\n",
        "  model = LogisticRegression(max_iter=1000, class_weight='balanced', n_jobs=-1)\n",
        "  model.fit(X_train, y_train)\n",
        "  return model"
      ]
    },
    {
      "cell_type": "markdown",
      "metadata": {
        "id": "cDD3fav3gUmK"
      },
      "source": [
        "That's all the code we need to train a model! The `model = LogisticRegression(...)` line creates the untrained model and sets some training hyperparameters, and the `model.fit` call performs the training to find parameters that fit the outputs in `y_train`.\n",
        "\n",
        "Before using this, we also define some functions for testing a model:"
      ]
    },
    {
      "cell_type": "code",
      "execution_count": 49,
      "metadata": {
        "id": "uyO1MjiiR8nL"
      },
      "outputs": [],
      "source": [
        "def make_predictions(model, X_test, y_test,\n",
        "                     verbose=True):\n",
        "    \"\"\"\n",
        "    Evaluate the model on the test set, making the outcome predictions\n",
        "    with the positive (1) value matching the target_rate.\n",
        "    \"\"\"\n",
        "    assert type(X_test) == pd.DataFrame, \"X_test must be a DataFrame: \" + str(type(X_test))\n",
        "    assert type(y_test) == pd.Series, \"y_test must be a Series: \" + str(type(y_test))\n",
        "\n",
        "    y_scores = model.predict_proba(X_test)[:, 1]\n",
        "\n",
        "    # pick threshold to maximize F1\n",
        "    ths = np.linspace(0.01, 0.99, 99)\n",
        "    f1s = [f1_score(y_test, y_scores >= t) for t in ths]\n",
        "    t_best = ths[int(np.argmax(f1s))]\n",
        "    if verbose: print(f\"Selected threshold: {t_best}\")\n",
        "\n",
        "    y_pred = (y_scores >= t_best).astype(int)\n",
        "    return y_pred\n",
        "\n",
        "def test_model(model, testing_data, fields,\n",
        "               prediction, verbose=True):\n",
        "    \"\"\"\n",
        "    Evaluate the model on the test set.\n",
        "\n",
        "    Returns the f1score for the model, but with verbose prints out other statistics.\n",
        "    \"\"\"\n",
        "    X_test, y_test = prepare_data(testing_data, fields, prediction)\n",
        "    y_pred = make_predictions(model, X_test, y_test, verbose)\n",
        "    f1score = f1_score(y_test, y_pred)\n",
        "\n",
        "    if verbose:\n",
        "      print(f\"Accuracy: {accuracy_score(y_test, y_pred):.3f} \"\n",
        "            f\"AUC: {roc_auc_score(y_test, y_pred):.3f} \"\n",
        "            f\"F1: {f1score:.3f}\")\n",
        "\n",
        "    return f1score"
      ]
    },
    {
      "cell_type": "markdown",
      "metadata": {
        "id": "cV-IL5VlhRRt"
      },
      "source": [
        "Now we have all the code we need to train and test models. Here's an example:"
      ]
    },
    {
      "cell_type": "code",
      "execution_count": 50,
      "metadata": {
        "colab": {
          "base_uri": "https://localhost:8080/"
        },
        "id": "gDWmon-dlInO",
        "outputId": "27291216-29d3-4645-eeb7-4efb447df3eb"
      },
      "outputs": [
        {
          "output_type": "stream",
          "name": "stdout",
          "text": [
            "Loaded loan-training.csv: 50000 rows, 18 columns\n",
            "Loaded loan-testing.csv: 20000 rows, 16 columns\n"
          ]
        }
      ],
      "source": [
        "training = load_data('loan-training.csv') # same data as before\n",
        "testing = load_data('loan-testing.csv')"
      ]
    },
    {
      "cell_type": "markdown",
      "metadata": {
        "id": "r9S_0sUblPbD"
      },
      "source": [
        "### Problem 7\n",
        "\n",
        "Try training and testing some models on the provided data.\n",
        "\n",
        "We've provided some initial code that shows how to use the functions to do this (and for thie problem you are not expected to modify the function definitions above, but are encouraged to do so if you want). You should modify this code the try changing the features used in training and what is predicted. (Note that below we define a function that can be used to run an experiment like this, but before using that to do more systematic experiments, just try some manual ones with this code to understand all the steps in training and testing a model.)"
      ]
    },
    {
      "cell_type": "code",
      "execution_count": 51,
      "metadata": {
        "colab": {
          "base_uri": "https://localhost:8080/"
        },
        "id": "GJdlIFYClx28",
        "outputId": "0bee5c5b-bb9a-4af9-d275-0631e1a26cc9"
      },
      "outputs": [
        {
          "output_type": "stream",
          "name": "stdout",
          "text": [
            "Selected threshold: 0.89\n",
            "Accuracy: 0.922 AUC: 0.922 F1: 0.928\n"
          ]
        },
        {
          "output_type": "execute_result",
          "data": {
            "text/plain": [
              "0.9277777777777778"
            ]
          },
          "metadata": {},
          "execution_count": 51
        }
      ],
      "source": [
        "# We've provided some starting example code here.\n",
        "# You should change this code to experiment with the impact of different\n",
        "# features on the model performance.\n",
        "tf1 = [ 'income', 'credit_score', 'dti',\n",
        "        'program_level', 'major',\n",
        "        'cohort_default_rate', 'loan_amount' ]\n",
        "\n",
        "prediction = 'loan_granted' # train to match historical decisions (not outcomes)\n",
        "model = train_model(training, tf1, prediction)\n",
        "test_model(model, testing, tf1, prediction)"
      ]
    },
    {
      "cell_type": "code",
      "execution_count": 52,
      "metadata": {
        "colab": {
          "base_uri": "https://localhost:8080/"
        },
        "id": "nJmgvHEBnBaa",
        "outputId": "cc6c06f1-fcc1-476b-8b2f-1a1565ca4337"
      },
      "outputs": [
        {
          "output_type": "stream",
          "name": "stdout",
          "text": [
            "Selected threshold: 0.14\n",
            "Accuracy: 0.954 AUC: 0.678 F1: 0.976\n"
          ]
        },
        {
          "output_type": "execute_result",
          "data": {
            "text/plain": [
              "0.9761733544273455"
            ]
          },
          "metadata": {},
          "execution_count": 52
        }
      ],
      "source": [
        "#Filtering to rows where loan_granted is equal to 1 and good_loan is not NaN (an empty value)\n",
        "training_granted = training[training['loan_granted'] == 1].dropna(subset=['good_loan'])\n",
        "testing_granted = testing[testing['loan_granted'] == 1].dropna(subset=['good_loan'])\n",
        "\n",
        "#Choosing the input features (evidence we give to the model)\n",
        "tf2 = ['income', 'credit_score', 'dti','loan_amount']\n",
        "\n",
        "#Choosing the prediction target (the outcome we want the model to learn)\n",
        "new_prediction = 'good_loan'\n",
        "\n",
        "#Training and testing the model\n",
        "new_model = train_model(training_granted, tf2, new_prediction)\n",
        "test_model(new_model, testing_granted, tf2, new_prediction)"
      ]
    },
    {
      "cell_type": "markdown",
      "metadata": {
        "id": "1TEz4qdTz7y8"
      },
      "source": [
        "## Evaluating Fairness"
      ]
    },
    {
      "cell_type": "markdown",
      "metadata": {
        "id": "cl9FYPhMwe3i"
      },
      "source": [
        "The code we provided in `test_model` produces some accuracy-based statistics for a model, but does not consider any fairness criteria. In the next problem, you will incorporate some statistical fairness tests in your model evaluation.\n"
      ]
    },
    {
      "cell_type": "markdown",
      "metadata": {
        "id": "viKHO_5aejay"
      },
      "source": [
        "### Problem 8\n",
        "\n",
        "Define a `test_model_fairness` function (starting from the template below which is the same code as for `test_model` above) that incorporates fairness tests into the evaluation. You can (and should) use functions you defined earlier, but should think about what tests to perform."
      ]
    },
    {
      "cell_type": "code",
      "execution_count": 53,
      "metadata": {
        "id": "8GL3b9eywoyF"
      },
      "outputs": [],
      "source": [
        "## Modify the code in this cell to incorporate fairness tests.\n",
        "\n",
        "def test_model_fairness(model, testing_data, fields,\n",
        "                        prediction, verbose=True):\n",
        "    \"\"\"\n",
        "    Evaluate the model on the test set, making the outcome predictions\n",
        "    with the positive (1) value.\n",
        "\n",
        "    Returns the f1score for the model, but with verbose prints out other statistics.\n",
        "    \"\"\"\n",
        "    X_test, y_test = prepare_data(testing_data, fields, prediction)\n",
        "    y_pred = make_predictions(model, X_test, y_test, verbose)\n",
        "    f1score = f1_score(y_test, y_pred)\n",
        "\n",
        "    if verbose:\n",
        "      print(f\"Accuracy: {accuracy_score(y_test, y_pred):.3f} \"\n",
        "            f\"AUC: {roc_auc_score(y_test, y_pred):.3f} \"\n",
        "            f\"F1: {f1score:.3f}\")\n",
        "\n",
        "    print(\"\\nFairness Tests\")\n",
        "\n",
        "    #Attaching the predictions back to the same dataset used here\n",
        "    testing_with_preds = testing_data.copy()\n",
        "    testing_with_preds['model_pred'] = y_pred\n",
        "\n",
        "    #Fairness Test 1: Checking for Disparate Impact (Black vs White applicants)\n",
        "    black = testing_with_preds[testing_with_preds['race'] == \"Black\"]\n",
        "    white = testing_with_preds[testing_with_preds['race'] == \"White\"]\n",
        "    asian = testing_with_preds[testing_with_preds['race'] == \"Asian\"]\n",
        "    di_b_w = disparate_impact(white, black, outcome=\"model_pred\")\n",
        "    di_a_w = disparate_impact(white, asian, outcome=\"model_pred\")\n",
        "    print(f\"Disparate Impact (B/W): {di_b_w:.3f}\")\n",
        "    print(f\"Disparate Impact (A/W): {di_a_w:.3f}\")\n",
        "\n",
        "    #Fairness Test 2: Checking for Error Rate Parity (True Positive Rate and False Positive Rate)\n",
        "    tpr_w, fpr_w = compute_error_rates(white, prediction=\"model_pred\", verbose=False)\n",
        "    tpr_b, fpr_b = compute_error_rates(black, prediction=\"model_pred\", verbose=False)\n",
        "    tpr_a, fpr_a = compute_error_rates(asian, prediction=\"model_pred\", verbose=False)\n",
        "\n",
        "    print(f\"White Applicant Error Rates: TPR={tpr_w:.3f}, FPR={fpr_w:.3f}\")\n",
        "    print(f\"Black Applicant Error Rates: TPR={tpr_b:.3f}, FPR={fpr_b:.3f}\")\n",
        "    print(f\"Asian Applicant Error Rates: TPR={tpr_a:.3f}, FPR={fpr_a:.3f}\")\n",
        "\n",
        "    return f1score"
      ]
    },
    {
      "cell_type": "code",
      "execution_count": 54,
      "metadata": {
        "colab": {
          "base_uri": "https://localhost:8080/"
        },
        "id": "_O7f4NfFyXs3",
        "outputId": "add39dc5-64d6-4e33-90fb-0abeb78c0513"
      },
      "outputs": [
        {
          "output_type": "stream",
          "name": "stdout",
          "text": [
            "Selected threshold: 0.89\n",
            "Accuracy: 0.922 AUC: 0.922 F1: 0.928\n",
            "\n",
            "Fairness Tests\n",
            "Disparate Impact (B/W): 0.668\n",
            "Disparate Impact (A/W): 1.085\n",
            "White Applicant Error Rates: TPR=0.932, FPR=0.643\n",
            "Black Applicant Error Rates: TPR=0.949, FPR=0.750\n",
            "Asian Applicant Error Rates: TPR=0.931, FPR=0.638\n"
          ]
        },
        {
          "output_type": "execute_result",
          "data": {
            "text/plain": [
              "0.9277777777777778"
            ]
          },
          "metadata": {},
          "execution_count": 54
        }
      ],
      "source": [
        "# Here's an example of using your function.\n",
        "# You should change this to try variations, and\n",
        "# your function should produce output that includes\n",
        "# fairness criteria.\n",
        "\n",
        "test_model_fairness(model, testing, tf1, prediction)"
      ]
    },
    {
      "cell_type": "markdown",
      "metadata": {
        "id": "Yh1HzFsifBtA"
      },
      "source": [
        "## Improving Models\n",
        "\n",
        "For the final part of this assignment, your goal is to produce a better method for making loan recommendations, that considers business, fairness, and legal aspects."
      ]
    },
    {
      "cell_type": "markdown",
      "metadata": {
        "id": "3r1MNnQrzYz2"
      },
      "source": [
        "### Problem 9\n",
        "\n",
        "Based on your work above to measure the fairness of models, develop a better model. Be explicit about what you are seeking to maximize, both in terms of fairness and predictive power. Keep in mind the side constraints imposed by discrimination law.\n",
        "\n",
        "(This problem is quite open ended, and we'll talk more in class on Sept 19 about what we expect at a minimum for this, and ways more ambitious teams could go beyond that.)"
      ]
    },
    {
      "cell_type": "code",
      "execution_count": 55,
      "metadata": {
        "colab": {
          "base_uri": "https://localhost:8080/"
        },
        "id": "sMg44EpDhQIL",
        "outputId": "83f510d5-297f-4db7-af12-12b83235d9a7"
      },
      "outputs": [
        {
          "output_type": "stream",
          "name": "stdout",
          "text": [
            "Selected threshold: 0.12\n",
            "Accuracy: 0.955 AUC: 0.666 F1: 0.976\n",
            "\n",
            "Fairness Tests\n",
            "Disparate Impact (B/W): 1.017\n",
            "Disparate Impact (A/W): 0.985\n",
            "White Applicant Error Rates: TPR=0.995, FPR=0.673\n",
            "Black Applicant Error Rates: TPR=0.996, FPR=0.667\n",
            "Asian Applicant Error Rates: TPR=0.992, FPR=0.596\n"
          ]
        },
        {
          "output_type": "execute_result",
          "data": {
            "text/plain": [
              "0.9764103545624192"
            ]
          },
          "metadata": {},
          "execution_count": 55
        }
      ],
      "source": [
        "# Use this, and additional cells as useful for your work\n",
        "# on this problem.\n",
        "\n",
        "fair_features = [\"income\", \"credit_score\", \"dti\", \"loan_amount\", \"age\"]\n",
        "fair_prediction = \"good_loan\"\n",
        "fair_model = train_model(training_granted, fair_features, fair_prediction)\n",
        "test_model_fairness(fair_model, testing_granted, fair_features, fair_prediction)\n"
      ]
    },
    {
      "cell_type": "markdown",
      "metadata": {
        "id": "aCWY1m2C0Tci"
      },
      "source": [
        "### Problem 10\n",
        "\n",
        "As a team, write a 4-5 paragraph summary of your approach. Include discussion of the fairness conditions you sought to maximize, the effect of discrimination law on your approach, and your assessment of the results. In the end, is  the model still unfair from the perspective of error rate parity? If so, in what ways?\n",
        "\n",
        "For Group Project #1, there will be no individual reflection papers."
      ]
    },
    {
      "cell_type": "markdown",
      "metadata": {
        "id": "JTe0U0BzVgcv"
      },
      "source": [
        "In developing our final model, our main goal was to balance accuracy with fairness. The earlier models (Model 1 and Model 2) were reasonably accurate but replicated biased historical patterns, particularly disadvantaging younger and Black applicants. To address this, we trained a new model to predict annual repayment outcomes (“good_loan”) instead of reproducing past approvals, and we limited the features to financial indicators such as income, credit score, debt-to-income ratio, and loan amount.\n",
        "\n",
        "We also tested two different feature sets. The first excluded age and relied only on financial indicators, producing strong results compared with earlier models. The second included age, but the overall performance did not change significantly. The only differences were a slight increase in the True Positive Rate (TPR) for Asian applicants (+0.002) and a minor decrease for Black applicants (-0.001), suggesting that age added little predictive value while raising fairness concerns.\n",
        "\n",
        "The new model performed strongly, achieving higher accuracy and F1 scores than Model 1 and Model 2 while producing more balanced outcomes across groups. Disparate impact ratios moved closer to 1, and error rates across racial groups became more consistent. These results indicate that the model not only improves predictive performance but also better aligns with fairness principles and anti-discrimination standards in lending.\n",
        "\n",
        "Nevertheless, the model is not perfect. Some disparities remain, particularly in False Positive Rates (FPR), which remain relatively high. Whether the model is considered fair ultimately depends on the fairness standard applied: those emphasizing high TPR and balanced disparate impact may judge it acceptable, whereas those emphasizing low FPR may still view it as problematic. Overall, however, the model represents a significant step toward reducing unfairness compared with earlier models."
      ]
    },
    {
      "cell_type": "markdown",
      "metadata": {
        "id": "YoFOCvkU02qy"
      },
      "source": [
        "# End of Project 1\n",
        "\n",
        "To submit your project, select \"File | Print\" to generate a PDF file. Check that it includes your answers including outputs from executing cells. In Canvas, each team will submit **one PDF file** that reflects your work as a group to the **Canvas Group Project 1 Assignment**."
      ]
    }
  ],
  "metadata": {
    "colab": {
      "provenance": [],
      "include_colab_link": true
    },
    "kernelspec": {
      "display_name": "Python 3 (ipykernel)",
      "language": "python",
      "name": "python3"
    },
    "language_info": {
      "codemirror_mode": {
        "name": "ipython",
        "version": 3
      },
      "file_extension": ".py",
      "mimetype": "text/x-python",
      "name": "python",
      "nbconvert_exporter": "python",
      "pygments_lexer": "ipython3",
      "version": "3.12.2"
    }
  },
  "nbformat": 4,
  "nbformat_minor": 0
}